{
 "cells": [
  {
   "cell_type": "markdown",
   "id": "6d0ebf25-9632-49f4-9b42-3622d9d9e3a9",
   "metadata": {
    "nbgrader": {
     "grade": false,
     "grade_id": "cell-81cce29cad9ec24f",
     "locked": true,
     "schema_version": 3,
     "solution": false,
     "task": false
    }
   },
   "source": [
    "# Propiedades del espacio vectorial $\\mathbb{R}^4$.\n",
    "\n",
    "<p xmlns:cc=\"http://creativecommons.org/ns#\" xmlns:dct=\"http://purl.org/dc/terms/\"><a property=\"dct:title\" rel=\"cc:attributionURL\" href=\"https://github.com/repomacti/macti/tree/main/notebooks/Algebra_Lineal_01\">MACTI-Algebra_Lineal_01</a> by <a rel=\"cc:attributionURL dct:creator\" property=\"cc:attributionName\" href=\"https://www.macti.unam.mx\">Luis M. de la Cruz</a> is licensed under <a href=\"http://creativecommons.org/licenses/by-sa/4.0/?ref=chooser-v1\" target=\"_blank\" rel=\"license noopener noreferrer\" style=\"display:inline-block;\">Attribution-ShareAlike 4.0 International<img style=\"height:22px!important;margin-left:3px;vertical-align:text-bottom;\" src=\"https://mirrors.creativecommons.org/presskit/icons/cc.svg?ref=chooser-v1\"><img style=\"height:22px!important;margin-left:3px;vertical-align:text-bottom;\" src=\"https://mirrors.creativecommons.org/presskit/icons/by.svg?ref=chooser-v1\"><img style=\"height:22px!important;margin-left:3px;vertical-align:text-bottom;\" src=\"https://mirrors.creativecommons.org/presskit/icons/sa.svg?ref=chooser-v1\"></a></p> \n",
    "\n",
    "**Trabajo realizado con el apoyo del Programa UNAM-DGAPA-PAPIME, proyectos PE101019 y PE101922.**"
   ]
  },
  {
   "cell_type": "markdown",
   "id": "ce32d2f2-fd74-489f-8f0a-cf4489c3cf4e",
   "metadata": {
    "nbgrader": {
     "grade": false,
     "grade_id": "cell-ccacc956312f2599",
     "locked": true,
     "schema_version": 3,
     "solution": false,
     "task": false
    }
   },
   "source": [
    "## Propiedades del espacio vectorial $\\mathbb{R}^n$.\n",
    "\n",
    "Dados $\\vec{x}, \\vec{y}, \\vec{z} \\in \\mathbb{R}^n$ y $\\alpha \\in \\mathbb{R}$ entonces:\n",
    "\n",
    "1. $\\vec{x} + \\vec{y} \\in \\mathbb{R}^n$.\n",
    "2. $\\vec{x} + \\vec{y} = \\vec{y} + \\vec{x}$.\n",
    "3. $\\vec{x} + (\\vec{y} + \\vec{z})= (\\vec{x} + \\vec{y}) + \\vec{z}$.\n",
    "4. Existe el vector neutro $\\vec{0} \\in \\mathbb{R}^n$ tal que $\\vec{x} + \\vec{0} = \\vec{x}$.\n",
    "5. Para cada $\\vec{x}\\in \\mathbb{R}^n$ existe el opuesto $-\\vec{x}$ tal que $\\vec{x} + (-\\vec{x}) = \\vec{0}$.\n",
    "6. $\\alpha \\vec{x} \\in \\mathbb{R}^n$.\n",
    "7. $\\alpha (\\vec{x} + \\vec{y}) = \\alpha \\vec{x} + \\alpha \\vec{y}$.\n",
    "8. $(\\alpha + \\beta) \\vec{x} = \\alpha \\vec{x} + \\beta \\vec{x}$.\n",
    "9. $\\alpha (\\beta \\vec{x}) = (\\alpha \\beta) \\vec{x}$.\n",
    "10. Existe el elemento neutro $\\mathbf{1} \\in \\mathbb{R}$ tal que $\\mathbf{1} \\vec{x} = \\vec{x}$."
   ]
  },
  {
   "cell_type": "markdown",
   "id": "50659cd9-f7c5-424c-97c1-2b53ecd9b355",
   "metadata": {
    "nbgrader": {
     "grade": false,
     "grade_id": "cell-a50fc26731cef6fb",
     "locked": true,
     "schema_version": 3,
     "solution": false,
     "task": false
    }
   },
   "source": [
    "<div class=\"alert alert-success\">\n",
    "\n",
    "## Ejercicio 1.\n",
    "\n",
    "Definimos los siguientes vectores $\\vec{x} = (1.2, 3.4, 5.2, -6.7)$ y $\\vec{y} = (4.4, -2.3, 5.3, 8.9)$ ambos en $\\mathbb{R}^4$. <br><br>\n",
    "Usando $\\alpha = 0.5$ y $\\beta = 3.5$, verifica que se cumplen las propiedades 1 a 10 para $\\vec{x}$ y $\\vec{y}$.\n",
    "<br><br>\n",
    "<b>Hint</b>. Define los vectores $\\vec{x}$ y $\\vec{y}$ usando `numpy` y posteriormente copia los códigos utilizados en el ejemplo de $\\mathbb{R}^2$ de la notebook [01_Espacios_Vectoriales.ipynb](https://github.com/repomacti/macti/blob/main/notebooks/Algebra_Lineal_01/01_Espacios_Vectoriales.ipynb) para cada propiedad. En algunos casos debes ajustar el código para este ejercicio.<br><br>\n",
    "<b>Observación</b>. En este caso no es posible realizar gráficas.\n",
    "\n",
    "\n",
    "</div>"
   ]
  },
  {
   "cell_type": "code",
   "execution_count": 1,
   "id": "17783f94-50ae-421d-be28-dd8d9e92a57f",
   "metadata": {
    "nbgrader": {
     "grade": false,
     "grade_id": "cell-5ea42a9d15f62c38",
     "locked": true,
     "schema_version": 3,
     "solution": false,
     "task": false
    },
    "tags": []
   },
   "outputs": [],
   "source": [
    "# Importar las bibliotecas requeridas\n",
    "import numpy as np\n",
    "import macti.visual as mvis"
   ]
  },
  {
   "cell_type": "code",
   "execution_count": 2,
   "id": "205fb63a-e6a1-4a65-8f37-843eae6b8573",
   "metadata": {
    "nbgrader": {
     "grade": false,
     "grade_id": "cell-f6298621391add16",
     "locked": true,
     "schema_version": 3,
     "solution": false,
     "task": false
    },
    "tags": []
   },
   "outputs": [
    {
     "name": "stdout",
     "output_type": "stream",
     "text": [
      "x = [ 1.2  3.4  5.2 -6.7]\n",
      "y = [ 4.4 -2.3  5.3  8.9]\n"
     ]
    }
   ],
   "source": [
    "### Definición de los vectores en R^4 con numpy\n",
    "# x = ...\n",
    "# y = ...\n",
    "### BEGIN SOLUTION\n",
    "x = np.array([1.2, 3.4, 5.2, -6.7])\n",
    "y = np.array([4.4, -2.3, 5.3, 8.9])\n",
    "### END SOLUTION\n",
    "\n",
    "print('x =', x)\n",
    "print('y =', y)"
   ]
  },
  {
   "cell_type": "markdown",
   "id": "92a4def4-11e3-4066-8e51-a62548e11a92",
   "metadata": {
    "nbgrader": {
     "grade": false,
     "grade_id": "cell-661df674730067bc",
     "locked": true,
     "schema_version": 3,
     "solution": false,
     "task": false
    }
   },
   "source": [
    "**Propiedad 1.**\n",
    "\n",
    "<div class=\"alert alert-info\">\n",
    "\n",
    "El resultado debería ser:\n",
    "\n",
    "```\n",
    "x = [ 1.2  3.4  5.2 -6.7]\n",
    "y = [ 4.4 -2.3  5.3  8.9]\n",
    "\n",
    "x + y = [ 5.6  1.1 10.5  2.2]\n",
    "```\n",
    "</div>"
   ]
  },
  {
   "cell_type": "code",
   "execution_count": 3,
   "id": "b623ac36-5d6b-49c9-8674-aa40eddf046b",
   "metadata": {
    "nbgrader": {
     "grade": false,
     "grade_id": "cell-5d828dc6422929b7",
     "locked": false,
     "schema_version": 3,
     "solution": true,
     "task": false
    },
    "tags": []
   },
   "outputs": [
    {
     "name": "stdout",
     "output_type": "stream",
     "text": [
      "x = [ 1.2  3.4  5.2 -6.7]\n",
      "y = [ 4.4 -2.3  5.3  8.9]\n",
      "\n",
      "x + y = [ 5.6  1.1 10.5  2.2]\n"
     ]
    }
   ],
   "source": [
    "### Propiedad 1.\n",
    "\n",
    "### BEGIN SOLUTION\n",
    "# Imprimir vectores\n",
    "print('x =', x)\n",
    "print('y =', y)\n",
    "\n",
    "# Sumar vectores\n",
    "print('\\nx + y =', x + y)\n",
    "### END SOLUTION"
   ]
  },
  {
   "cell_type": "markdown",
   "id": "1f5bc656-ad5d-42cb-a1d7-6758cb0ad0d0",
   "metadata": {
    "nbgrader": {
     "grade": false,
     "grade_id": "cell-f756f7c8c2db577f",
     "locked": true,
     "schema_version": 3,
     "solution": false,
     "task": false
    }
   },
   "source": [
    "**Propiedad 2.**\n",
    "\n",
    "<div class=\"alert alert-info\">\n",
    "\n",
    "El resultado debería ser:\n",
    "\n",
    "```\n",
    "x = [ 1.2  3.4  5.2 -6.7]\n",
    "y = [ 4.4 -2.3  5.3  8.9]\n",
    "\n",
    "x + y = [ 5.6  1.1 10.5  2.2]\n",
    "y + x = [ 5.6  1.1 10.5  2.2]\n",
    "\n",
    "¿ x + y == y + x ? ⮕ True\n",
    "```\n",
    "</div>"
   ]
  },
  {
   "cell_type": "code",
   "execution_count": 4,
   "id": "4c135436-5227-4dec-830a-126b31de055a",
   "metadata": {
    "nbgrader": {
     "grade": false,
     "grade_id": "cell-23c89c20d653d37b",
     "locked": false,
     "schema_version": 3,
     "solution": true,
     "task": false
    },
    "tags": []
   },
   "outputs": [
    {
     "name": "stdout",
     "output_type": "stream",
     "text": [
      "x = [ 1.2  3.4  5.2 -6.7]\n",
      "y = [ 4.4 -2.3  5.3  8.9]\n",
      "\n",
      "x + y = [ 5.6  1.1 10.5  2.2]\n",
      "y + x = [ 5.6  1.1 10.5  2.2]\n",
      "\n",
      "¿ x + y == y + x ? ⮕ True\n"
     ]
    }
   ],
   "source": [
    "### Propiedad 2.\n",
    "\n",
    "### BEGIN SOLUTION\n",
    "# Imprimir vectores\n",
    "print('x =', x)\n",
    "print('y =', y)\n",
    "\n",
    "# Sumar vectores (conmutativa)\n",
    "x_y = x + y\n",
    "y_x = y + x\n",
    "\n",
    "# Imprimir sumas\n",
    "print('\\nx + y =', x_y)\n",
    "print('y + x =', y_x)\n",
    "\n",
    "# Checar si 'x+y' es igual a 'y+x' (dentro de una tolerancia)\n",
    "conmutativa = np.allclose(x_y, y_x)\n",
    "\n",
    "print('\\n¿ x + y == y + x ? ⮕', conmutativa)\n",
    "### END SOLUTION"
   ]
  },
  {
   "cell_type": "markdown",
   "id": "30d6779a-b24a-4e0d-8f72-8612a408a457",
   "metadata": {
    "nbgrader": {
     "grade": false,
     "grade_id": "cell-5f8704d054140425",
     "locked": true,
     "schema_version": 3,
     "solution": false,
     "task": false
    }
   },
   "source": [
    "**Propiedad 3.**\n",
    "\n",
    "<div class=\"alert alert-info\">\n",
    "    \n",
    "El resultado debería ser:\n",
    "\n",
    "```\n",
    "x = [ 1.2  3.4  5.2 -6.7]\n",
    "y = [ 4.4 -2.3  5.3  8.9]\n",
    "z = [ 5.6  1.1 10.5  2.2]\n",
    "\n",
    "x + (y + z) = [11.2  2.2 21.   4.4]\n",
    "(x + y) + z = [11.2  2.2 21.   4.4]\n",
    "\n",
    "¿x + (y + z) == (x + y) + z? ⮕ True\n",
    "```\n",
    "</div>"
   ]
  },
  {
   "cell_type": "code",
   "execution_count": 5,
   "id": "c67c60c7-7860-4d80-96af-87778bbd859f",
   "metadata": {
    "nbgrader": {
     "grade": false,
     "grade_id": "cell-532155c5b38aee69",
     "locked": false,
     "schema_version": 3,
     "solution": true,
     "task": false
    },
    "tags": []
   },
   "outputs": [
    {
     "name": "stdout",
     "output_type": "stream",
     "text": [
      "x = [ 1.2  3.4  5.2 -6.7]\n",
      "y = [ 4.4 -2.3  5.3  8.9]\n",
      "z = [ 5.6  1.1 10.5  2.2]\n",
      "\n",
      "x + (y + z) = [11.2  2.2 21.   4.4]\n",
      "(x + y) + z = [11.2  2.2 21.   4.4]\n",
      "\n",
      "¿x + (y + z) == (x + y) + z? ⮕ True\n"
     ]
    }
   ],
   "source": [
    "### Propiedad 3.\n",
    "\n",
    "### BEGIN SOLUTION\n",
    "# Definir el vector 'z'\n",
    "z = x + y\n",
    "\n",
    "# Imprimir vectores\n",
    "print('x =', x)\n",
    "print('y =', y)\n",
    "print('z =', z)\n",
    "\n",
    "# Sumar vectores (asociativa)\n",
    "x_yz = x + (y + z)\n",
    "xy_z = (x + y) + z\n",
    "\n",
    "# Imprimir sumas\n",
    "print('\\nx + (y + z) =', x_yz)\n",
    "print('(x + y) + z =', xy_z)\n",
    "\n",
    "# Checar si 'x + (y + z)' es igual a '(x + y) + z' (dentro de una tolerancia)\n",
    "suma_asociativa = np.allclose(x_yz, xy_z)\n",
    "\n",
    "print('\\n¿x + (y + z) == (x + y) + z? ⮕', suma_asociativa)\n",
    "### END SOLUTION"
   ]
  },
  {
   "cell_type": "markdown",
   "id": "52a1fb9f-33df-468c-adc8-541a08bc24e8",
   "metadata": {
    "nbgrader": {
     "grade": false,
     "grade_id": "cell-164f8c34ad5ea315",
     "locked": true,
     "schema_version": 3,
     "solution": false,
     "task": false
    }
   },
   "source": [
    "**Propiedad 4.**\n",
    "\n",
    "<div class=\"alert alert-info\">\n",
    "\n",
    "El resultado debería ser:\n",
    "\n",
    "```\n",
    "   x = [ 1.2  3.4  5.2 -6.7]\n",
    "cero = [0. 0. 0. 0.]\n",
    "\n",
    "x + cero = [ 1.2  3.4  5.2 -6.7]\n",
    "\n",
    "¿x + cero == x? ⮕ True\n",
    "```\n",
    "</div>"
   ]
  },
  {
   "cell_type": "code",
   "execution_count": 6,
   "id": "8303488b-ff89-4b0c-8fb1-7b711d1ae5f7",
   "metadata": {
    "nbgrader": {
     "grade": false,
     "grade_id": "cell-50d3a65c148c77ec",
     "locked": false,
     "schema_version": 3,
     "solution": true,
     "task": false
    },
    "tags": []
   },
   "outputs": [
    {
     "name": "stdout",
     "output_type": "stream",
     "text": [
      "   x = [ 1.2  3.4  5.2 -6.7]\n",
      "cero = [0. 0. 0. 0.]\n",
      "\n",
      "x + cero = [ 1.2  3.4  5.2 -6.7]\n",
      "\n",
      "¿x + cero == x? ⮕ True\n"
     ]
    }
   ],
   "source": [
    "### Propiedad 4.\n",
    "\n",
    "### BEGIN SOLUTION\n",
    "# Definir el vector neutro.\n",
    "cero = np.zeros(4)\n",
    "\n",
    "# Imprimir vectores\n",
    "print('   x =', x)\n",
    "print('cero =', cero)\n",
    "\n",
    "# Imprimir suma\n",
    "print('\\nx + cero =', x + cero)\n",
    "\n",
    "# Checar si 'x + cero' es igual a 'x'\n",
    "elemento_neutro = np.allclose(x, x + cero)\n",
    "\n",
    "print('\\n¿x + cero == x? ⮕', elemento_neutro)\n",
    "### END SOLUTION"
   ]
  },
  {
   "cell_type": "markdown",
   "id": "a32234cb-0d88-48a5-bc4e-5e26c4330ce0",
   "metadata": {
    "nbgrader": {
     "grade": false,
     "grade_id": "cell-1e8b88f879046e92",
     "locked": true,
     "schema_version": 3,
     "solution": false,
     "task": false
    }
   },
   "source": [
    "**Propiedad 5.**\n",
    "\n",
    "<div class=\"alert alert-info\">\n",
    "    \n",
    "El resultado debería ser:\n",
    "\n",
    "```\n",
    " x =  [ 1.2  3.4  5.2 -6.7]\n",
    "-x =  [-1.2 -3.4 -5.2  6.7]\n",
    "\n",
    "x + (-x) = [0. 0. 0. 0.]\n",
    "\n",
    "¿x + (-x) == cero? ⮕ True\n",
    "```\n",
    "</div>"
   ]
  },
  {
   "cell_type": "code",
   "execution_count": 7,
   "id": "9d93d222-8a2c-4f51-9b5d-5bb6cae5d035",
   "metadata": {
    "nbgrader": {
     "grade": false,
     "grade_id": "cell-68d351eee5aec4ef",
     "locked": false,
     "schema_version": 3,
     "solution": true,
     "task": false
    },
    "tags": []
   },
   "outputs": [
    {
     "name": "stdout",
     "output_type": "stream",
     "text": [
      " x =  [ 1.2  3.4  5.2 -6.7]\n",
      "-x =  [-1.2 -3.4 -5.2  6.7]\n",
      "\n",
      "x + (-x) = [0. 0. 0. 0.]\n",
      "\n",
      "¿x + (-x) == cero? ⮕ True\n"
     ]
    }
   ],
   "source": [
    "### Propiedad 5.\n",
    "\n",
    "### BEGIN SOLUTION\n",
    "# Imprimir vectores\n",
    "print(' x = ', x)\n",
    "print('-x = ', -x)\n",
    "\n",
    "# Sumar inverso\n",
    "xix = x + (-x)\n",
    "\n",
    "# Imprimir suma\n",
    "print('\\nx + (-x) =', xix)\n",
    "\n",
    "# Checar si 'x + (-x)' es igual a 0:\n",
    "suma_inverso = np.allclose(xix, cero)\n",
    "\n",
    "print('\\n¿x + (-x) == cero? ⮕', suma_inverso)\n",
    "### END SOLUTION"
   ]
  },
  {
   "cell_type": "markdown",
   "id": "7be0a5f7-d7c0-405e-bd02-d525037748d9",
   "metadata": {
    "nbgrader": {
     "grade": false,
     "grade_id": "cell-6d2bb6315c36e464",
     "locked": true,
     "schema_version": 3,
     "solution": false,
     "task": false
    }
   },
   "source": [
    "**Propiedad 6.**\n",
    "\n",
    "<div class=\"alert alert-info\">\n",
    "\n",
    "El resultado debería ser:\n",
    "\n",
    "```\n",
    "α = 1.5\n",
    "x = [ 1.2  3.4  5.2 -6.7]\n",
    "α * x = [  1.8    5.1    7.8  -10.05]\n",
    "```\n",
    "</div>"
   ]
  },
  {
   "cell_type": "code",
   "execution_count": 8,
   "id": "7eac92d8-d50a-4928-b695-0558ab9222b8",
   "metadata": {
    "nbgrader": {
     "grade": false,
     "grade_id": "cell-456fb95aa6f2f42b",
     "locked": false,
     "schema_version": 3,
     "solution": true,
     "task": false
    },
    "tags": []
   },
   "outputs": [
    {
     "name": "stdout",
     "output_type": "stream",
     "text": [
      "α = 1.5\n",
      "x = [ 1.2  3.4  5.2 -6.7]\n",
      "α * x = [  1.8    5.1    7.8  -10.05]\n"
     ]
    }
   ],
   "source": [
    "### Propiedad 6.\n",
    "\n",
    "### BEGIN SOLUTION\n",
    "# Definir un escalar\n",
    "α = 1.5\n",
    "\n",
    "# Realizar la multiplicación de x por el escalar\n",
    "αx = α * x\n",
    "\n",
    "# Mostrar el resultado\n",
    "print('α =', α)\n",
    "print('x =', x)\n",
    "print('α * x =', αx)\n",
    "### END SOLUTION"
   ]
  },
  {
   "cell_type": "markdown",
   "id": "76aa5c15-1306-4a89-a962-b6afbd578848",
   "metadata": {
    "nbgrader": {
     "grade": false,
     "grade_id": "cell-e47604c2ec686ecb",
     "locked": true,
     "schema_version": 3,
     "solution": false,
     "task": false
    }
   },
   "source": [
    "**Propiedad 7.**\n",
    "\n",
    "<div class=\"alert alert-info\">\n",
    "\n",
    "El resultado debería ser:\n",
    "\n",
    "```\n",
    "α = 1.5\n",
    "x = [ 1.2  3.4  5.2 -6.7]\n",
    "y = [ 4.4 -2.3  5.3  8.9]\n",
    "\n",
    "α * (x + y) = [ 8.4   1.65 15.75  3.3 ]\n",
    "α * x + α * y = [ 8.4   1.65 15.75  3.3 ]\n",
    "\n",
    "¿ α * (x + y) == α * x + α * y ? ⮕ True\n",
    "```\n",
    "</div>"
   ]
  },
  {
   "cell_type": "code",
   "execution_count": 9,
   "id": "8d327ccf-6f1b-4de8-9a9b-cd6ab7180b78",
   "metadata": {
    "nbgrader": {
     "grade": false,
     "grade_id": "cell-eb1a14baec9e1f3d",
     "locked": false,
     "schema_version": 3,
     "solution": true,
     "task": false
    },
    "tags": []
   },
   "outputs": [
    {
     "name": "stdout",
     "output_type": "stream",
     "text": [
      "α = 1.5\n",
      "x = [ 1.2  3.4  5.2 -6.7]\n",
      "y = [ 4.4 -2.3  5.3  8.9]\n",
      "\n",
      "α * (x + y) = [ 8.4   1.65 15.75  3.3 ]\n",
      "α * x + α * y = [ 8.4   1.65 15.75  3.3 ]\n",
      "\n",
      "¿ α * (x + y) == α * x + α * y ? ⮕ True\n"
     ]
    }
   ],
   "source": [
    "### Propiedad 7.\n",
    "\n",
    "### BEGIN SOLUTION\n",
    "# Imprimir el escalar α y los vectores\n",
    "print(\"α =\", α)\n",
    "print(\"x =\", x)\n",
    "print(\"y =\", y)\n",
    "\n",
    "# Realizar operación distributiva I\n",
    "α_xy = α * (x + y)\n",
    "αx_αy = α * x + α * y\n",
    "\n",
    "# Imprimir operación distributiva I\n",
    "print(\"\\nα * (x + y) =\", α_xy)\n",
    "print(\"α * x + α * y =\", αx_αy)\n",
    "\n",
    "# Checar si α * (x + y) es igual a α * x + α * y \n",
    "distributivaI = np.allclose(α_xy, αx_αy)\n",
    "\n",
    "print('\\n¿ α * (x + y) == α * x + α * y ? ⮕', distributivaI)\n",
    "### END SOLUTION"
   ]
  },
  {
   "cell_type": "markdown",
   "id": "269598a1-9895-45ba-b964-9d8bbb739c8e",
   "metadata": {
    "nbgrader": {
     "grade": false,
     "grade_id": "cell-58072c931aec6661",
     "locked": true,
     "schema_version": 3,
     "solution": false,
     "task": false
    }
   },
   "source": [
    "**Propiedad 8.**\n",
    "\n",
    "<div class=\"alert alert-info\">\n",
    "\n",
    "El resultado debería ser:\n",
    "\n",
    "```\n",
    "α = 2.0\n",
    "β = 1.5\n",
    "α + β = 3.5\n",
    "x = [ 1.2  3.4  5.2 -6.7]\n",
    "\n",
    "(α + β) * x = [  4.2   11.9   18.2  -23.45]\n",
    "α * x + β * x = [  4.2   11.9   18.2  -23.45]\n",
    "\n",
    "¿ (α + β) * x == α * x + β * x ? ⮕ True\n",
    "```\n",
    "</div>"
   ]
  },
  {
   "cell_type": "code",
   "execution_count": 10,
   "id": "3cbde66f-79c1-44bd-b537-743e441b85f2",
   "metadata": {
    "nbgrader": {
     "grade": false,
     "grade_id": "cell-397c642096f12c01",
     "locked": false,
     "schema_version": 3,
     "solution": true,
     "task": false
    },
    "tags": []
   },
   "outputs": [
    {
     "name": "stdout",
     "output_type": "stream",
     "text": [
      "α = 2.0\n",
      "β = 1.5\n",
      "α + β = 3.5\n",
      "x = [ 1.2  3.4  5.2 -6.7]\n",
      "\n",
      "(α + β) * x = [  4.2   11.9   18.2  -23.45]\n",
      "α * x + β * x = [  4.2   11.9   18.2  -23.45]\n",
      "\n",
      "¿ (α + β) * x == α * x + β * x ? ⮕ True\n"
     ]
    }
   ],
   "source": [
    "### Propiedad 8.\n",
    "\n",
    "### BEGIN SOLUTION\n",
    "# Definir escalares\n",
    "α = 2.0\n",
    "β = 1.5\n",
    "\n",
    "# Imprimir escalares y vector\n",
    "print('α =', α)\n",
    "print('β =', β)\n",
    "print('α + β =', α + β)\n",
    "print('x =', x)\n",
    "\n",
    "# Realizar operación distributiva II\n",
    "αβ_x = (α + β) * x\n",
    "αx_βx = α * x + β * x\n",
    "\n",
    "# Imprimir operación distributiva II\n",
    "print('\\n(α + β) * x =', αβ_x)\n",
    "print('α * x + β * x =', αx_βx)\n",
    "\n",
    "# Checar si (α + β) * x es igual a α * x + β * x\n",
    "distributivaII = np.allclose(αβ_x, αx_βx)\n",
    "\n",
    "print('\\n¿ (α + β) * x == α * x + β * x ? ⮕', distributivaII)\n",
    "### END SOLUTION"
   ]
  },
  {
   "cell_type": "markdown",
   "id": "0f2e77b0-c25b-4f1a-9e81-be113d4d57b5",
   "metadata": {
    "nbgrader": {
     "grade": false,
     "grade_id": "cell-259f124e5465156f",
     "locked": true,
     "schema_version": 3,
     "solution": false,
     "task": false
    }
   },
   "source": [
    "**Propiedad 9.**\n",
    "\n",
    "<div class=\"alert alert-info\">\n",
    "\n",
    "El resultado debería ser:\n",
    "\n",
    "```\n",
    "α = 2.0\n",
    "β = 1.5\n",
    "x = [ 1.2  3.4  5.2 -6.7]\n",
    "\n",
    "α * (β * x) = [  3.6  10.2  15.6 -20.1]\n",
    "(α * β) * x = [  3.6  10.2  15.6 -20.1]\n",
    "\n",
    "¿ α * (β * x) == (α * β) * x ? ⮕ True\n",
    "```\n",
    "</div>"
   ]
  },
  {
   "cell_type": "code",
   "execution_count": 11,
   "id": "8cc247ff-cba3-4e4c-b90b-6faed3c87c51",
   "metadata": {
    "nbgrader": {
     "grade": false,
     "grade_id": "cell-25d8179c105bb70f",
     "locked": false,
     "schema_version": 3,
     "solution": true,
     "task": false
    },
    "tags": []
   },
   "outputs": [
    {
     "name": "stdout",
     "output_type": "stream",
     "text": [
      "α = 2.0\n",
      "β = 1.5\n",
      "x = [ 1.2  3.4  5.2 -6.7]\n",
      "\n",
      "α * (β * x) = [  3.6  10.2  15.6 -20.1]\n",
      "(α * β) * x = [  3.6  10.2  15.6 -20.1]\n",
      "\n",
      "¿ α * (β * x) == (α * β) * x ? ⮕ True\n"
     ]
    }
   ],
   "source": [
    "### Propiedad 9.\n",
    "\n",
    "### BEGIN SOLUTION\n",
    "# Definir escalares\n",
    "α = 2.0\n",
    "β = 1.5\n",
    "\n",
    "# Imprimir escalares y vector\n",
    "print('α =', α)\n",
    "print('β =', β)\n",
    "print('x =', x)\n",
    "\n",
    "# Realizar operación asociativa\n",
    "α_βx = α * ( β * x)\n",
    "αβ_x = (α * β) * x\n",
    "\n",
    "# Imprimir multiplicación asociativa\n",
    "print('\\nα * (β * x) =', α_βx)\n",
    "print('(α * β) * x =', αβ_x)\n",
    "\n",
    "# Checar si α * ( β * x) es igual a (α * β) * x\n",
    "mult_asociativa = np.allclose(α_βx, αβ_x)\n",
    "\n",
    "print('\\n¿ α * (β * x) == (α * β) * x ? ⮕', mult_asociativa)\n",
    "### END SOLUTION"
   ]
  },
  {
   "cell_type": "markdown",
   "id": "3ba5a265-3d1b-477d-93c3-21efa2ac8656",
   "metadata": {
    "nbgrader": {
     "grade": false,
     "grade_id": "cell-8cceb7345ff2bb30",
     "locked": true,
     "schema_version": 3,
     "solution": false,
     "task": false
    }
   },
   "source": [
    "**Propiedad 10.**\n",
    "\n",
    "<div class=\"alert alert-info\">\n",
    "\n",
    "El resultado debería ser:\n",
    "\n",
    "```\n",
    "α = 1.0\n",
    "x = [ 1.2  3.4  5.2 -6.7]\n",
    "\n",
    "α * x = [ 1.2  3.4  5.2 -6.7]\n",
    "\n",
    "¿ α * x == x ? ⮕ True\n",
    "```\n",
    "</div>"
   ]
  },
  {
   "cell_type": "code",
   "execution_count": 12,
   "id": "3ec2da2e-4391-4da1-b147-1039feb2985b",
   "metadata": {
    "nbgrader": {
     "grade": false,
     "grade_id": "cell-1cbd9e44b3f169ae",
     "locked": false,
     "schema_version": 3,
     "solution": true,
     "task": false
    },
    "tags": []
   },
   "outputs": [
    {
     "name": "stdout",
     "output_type": "stream",
     "text": [
      "α = 1.0\n",
      "x = [ 1.2  3.4  5.2 -6.7]\n",
      "\n",
      "α * x = [ 1.2  3.4  5.2 -6.7]\n",
      "\n",
      "¿ α * x == x ? ⮕ True\n"
     ]
    }
   ],
   "source": [
    "### Propiedad 10.\n",
    "\n",
    "### BEGIN SOLUTION\n",
    "# Definir el elemento neutro\n",
    "α = 1.0\n",
    "\n",
    "# Imprimir escalar y vector\n",
    "print('α =', α)\n",
    "print('x =', x)\n",
    "\n",
    "# Multiplicar por el elemento neutro\n",
    "αx = α * x\n",
    "\n",
    "print('\\nα * x =', αx)\n",
    "\n",
    "# Probar la propiedad del elemento neutro\n",
    "neutro = np.allclose(α * x, x)\n",
    "\n",
    "print('\\n¿ α * x == x ? ⮕', neutro)\n",
    "### END SOLUTION"
   ]
  }
 ],
 "metadata": {
  "kernelspec": {
   "display_name": "Python 3 (ipykernel)",
   "language": "python",
   "name": "python3"
  },
  "language_info": {
   "codemirror_mode": {
    "name": "ipython",
    "version": 3
   },
   "file_extension": ".py",
   "mimetype": "text/x-python",
   "name": "python",
   "nbconvert_exporter": "python",
   "pygments_lexer": "ipython3",
   "version": "3.11.6"
  }
 },
 "nbformat": 4,
 "nbformat_minor": 5
}
