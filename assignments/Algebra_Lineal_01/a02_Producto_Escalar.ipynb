{
 "cells": [
  {
   "cell_type": "markdown",
   "id": "ff0e6ff1-fcfc-41bc-abc8-cbfba5212b5b",
   "metadata": {},
   "source": [
    "# Propiedades del producto escalar.\n",
    "\n",
    "\n",
    " <p xmlns:cc=\"http://creativecommons.org/ns#\" xmlns:dct=\"http://purl.org/dc/terms/\"><a property=\"dct:title\" rel=\"cc:attributionURL\" href=\"https://github.com/repomacti/macti/tree/main/notebooks/Algebra_Lineal_01\">MACTI-Algebra_Lineal_01</a> by <a rel=\"cc:attributionURL dct:creator\" property=\"cc:attributionName\" href=\"https://www.macti.unam.mx\">Luis M. de la Cruz</a> is licensed under <a href=\"http://creativecommons.org/licenses/by-sa/4.0/?ref=chooser-v1\" target=\"_blank\" rel=\"license noopener noreferrer\" style=\"display:inline-block;\">Attribution-ShareAlike 4.0 International<img style=\"height:22px!important;margin-left:3px;vertical-align:text-bottom;\" src=\"https://mirrors.creativecommons.org/presskit/icons/cc.svg?ref=chooser-v1\"><img style=\"height:22px!important;margin-left:3px;vertical-align:text-bottom;\" src=\"https://mirrors.creativecommons.org/presskit/icons/by.svg?ref=chooser-v1\"><img style=\"height:22px!important;margin-left:3px;vertical-align:text-bottom;\" src=\"https://mirrors.creativecommons.org/presskit/icons/sa.svg?ref=chooser-v1\"></a></p> \n",
    "\n",
    "**Trabajo realizado con el apoyo del Programa UNAM-DGAPA-PAPIME, proyectos PE101019 y PE101922.**"
   ]
  },
  {
   "cell_type": "markdown",
   "id": "0f7df42e-5c00-4d83-86be-634138cb88fb",
   "metadata": {},
   "source": [
    "## Definición y propiedades.\n",
    "Producto escalar es una operación algebraica que toma dos vectores y retorna un escalar. También se conoce como producto interno o producto punto. \n",
    "\n",
    "Dados $\\vec{x}, \\vec{y} \\in \\mathbb{R}^n$ el producto escalar se define como\n",
    "\n",
    "$$\n",
    "\\langle \\vec{x}, \\vec{y} \\rangle = \\vec{y}^T \\cdot \\vec{x} = \\sum_{i=1}^n x_i y_i \\tag{1}\n",
    "$$\n",
    "\n",
    "**Propiedades**:\n",
    "1. $\\langle \\vec{x}, \\vec{y} \\rangle = 0$ si y solo si $\\vec{x}$ y $\\vec{y}$ son ortogonales.\n",
    "2. $\\langle \\vec{x}, \\vec{x} \\rangle \\ge 0$, además $\\langle \\vec{x}, \\vec{x} \\rangle = 0$ si y solo si $\\vec{x} = 0$\n",
    "3. $\\langle \\alpha \\vec{x}, \\vec{y} \\rangle = \\alpha \\langle \\vec{x}, \\vec{y} \\rangle$\n",
    "4. $\\langle \\vec{x}+\\vec{y}, \\vec{z} \\rangle = \\langle \\vec{x}, \\vec{z} \\rangle + \\langle \\vec{y}, \\vec{z} \\rangle$\n",
    "5. $\\langle \\vec{x}, \\vec{y} \\rangle = \\langle \\vec{y}, \\vec{x} \\rangle $\n",
    "6. Desigualdad de Schwarz : $||\\langle \\vec{x}, \\vec{y} \\rangle|| \\le ||\\vec{x}|| ||\\vec{y}||$"
   ]
  },
  {
   "cell_type": "markdown",
   "id": "cfa99c60-9076-477a-a83c-1eb37846d271",
   "metadata": {},
   "source": [
    "<div class=\"alert alert-success\">\n",
    "\n",
    "## Ejercicio 1.\n",
    "\n",
    "Define los siguientes vectores \n",
    "\n",
    "* $\\vec{x} = (3.5, 0, -3.5, 0)$,\n",
    "* $\\vec{y} = (1.5, 1.0, 2.3, -1.0)$ y\n",
    "* $\\vec{z} = (1.0, 1.0, 1.0, 1.0)$ en $\\mathbb{R}^4$\n",
    "\n",
    "y el escalar $\\alpha = 0.5$. \n",
    "\n",
    "**1. Imprime los vectores y el escalar.**\n",
    "\n",
    "</div>"
   ]
  },
  {
   "cell_type": "markdown",
   "id": "a845afda-f8aa-4fa3-a163-11848b6031c5",
   "metadata": {},
   "source": [
    "<div class=\"alert alert-info\">\n",
    "\n",
    "Deberías obtener un resultado como el siguiente al imprimir los tres vectores y el escalar $\\alpha$:\n",
    "\n",
    "```\n",
    "x = [ 3.5  0.  -3.5  0. ]\n",
    "y = [ 1.5  1.   2.3 -1. ]\n",
    "z = [1. 1. 1. 1.]\n",
    "α = 0.5\n",
    "```\n",
    "</div>"
   ]
  },
  {
   "cell_type": "code",
   "execution_count": 1,
   "id": "329b3227-daf3-4126-bc29-e6d51bf39367",
   "metadata": {
    "tags": []
   },
   "outputs": [],
   "source": [
    "# Importamos las bibliotecas requeridas\n",
    "import numpy as np\n",
    "import macti.visual as mvis"
   ]
  },
  {
   "cell_type": "code",
   "execution_count": 2,
   "id": "95176b13-f688-4d3f-86cf-ef1071da9c7f",
   "metadata": {},
   "outputs": [
    {
     "name": "stdout",
     "output_type": "stream",
     "text": [
      "x = [ 3.5  0.  -3.5  0. ]\n",
      "y = [ 1.5  1.   2.3 -1. ]\n",
      "z = [1. 1. 1. 1.]\n",
      "α = 0.5\n"
     ]
    }
   ],
   "source": [
    "### BEGIN SOLUTION\n",
    "# Definimos dos vectores en R^4 usando numpy\n",
    "x = np.array([3.5, 0, -3.5, 0])\n",
    "y = np.array([1.5, 1.0, 2.3, -1.0])\n",
    "z = np.array([1.0, 1.0, 1.0, 1.0])\n",
    "α = 0.5\n",
    "\n",
    "# Imprimimos los vectores\n",
    "print('x = {}'.format(x))\n",
    "print('y = {}'.format(y))\n",
    "print('z = {}'.format(z))\n",
    "print('α = {}'.format(α))\n",
    "### END SOLUTION"
   ]
  },
  {
   "cell_type": "markdown",
   "id": "cd4c64ee-d472-4678-885f-ac1550aa6139",
   "metadata": {},
   "source": [
    "<div class=\"alert alert-success\">\n",
    "\n",
    "**2. Verifica que se cumplen las propiedades 1 a 6.**\n",
    "\n",
    "\n",
    "**Hint**. Copia los códigos utilizados en el ejemplo de $\\mathbb{R}^2$ de la notebook [02_Producto_Escalar.ipynb](https://github.com/repomacti/macti/blob/main/notebooks/Algebra_Lineal_01/02_Producto_Escalar.ipynb) .<br><br>\n",
    "**Obervación**. En este caso no es posible realizar gráficas.\n",
    "\n",
    "</div>"
   ]
  },
  {
   "cell_type": "markdown",
   "id": "35f2b88e-93e2-404f-955b-e577e3e03cf7",
   "metadata": {},
   "source": [
    "<div class=\"alert alert-success\">\n",
    "\n",
    "**Propiedad 1.** Ortogonalidad.\n",
    "\n",
    "Calcula e imprime los siguientes productos escalares $\\langle \\vec{x}, \\vec{y} \\rangle$, $\\langle \\vec{x}, \\vec{z} \\rangle$ y $\\langle \\vec{z}, \\vec{y} \\rangle$ y revisa en qué caso el producto es cero (los vectores son ortogonales).\n",
    "\n",
    "</div>"
   ]
  },
  {
   "cell_type": "markdown",
   "id": "ea6016c1-5441-4a0f-9c6c-b7284623363f",
   "metadata": {},
   "source": [
    "<div class=\"alert alert-info\">\n",
    "\n",
    "Deberías obtener un resultado como el siguiente:\n",
    "\n",
    "```\n",
    "<x, y> = -2.80\n",
    "<x, z> =  0.00\n",
    "<z, y> =  3.80\n",
    "```\n",
    "</div>"
   ]
  },
  {
   "cell_type": "code",
   "execution_count": 3,
   "id": "f8f797db-ab2e-46f0-8ad8-348d9cd3eb05",
   "metadata": {
    "tags": []
   },
   "outputs": [
    {
     "name": "stdout",
     "output_type": "stream",
     "text": [
      "<x, y> = -2.80\n",
      "<x, z> =  0.00\n",
      "<z, y> =  3.80\n"
     ]
    }
   ],
   "source": [
    "### BEGIN SOLUTION\n",
    "# Calculamos el producto escalar entre los vectores x, y, z\n",
    "print('<x, y> = {:>5.2f}'.format(x @ y))\n",
    "print('<x, z> = {:>5.2f}'.format(x @ z))\n",
    "print('<z, y> = {:>5.2f}'.format(z @ y))\n",
    "### END SOLUTION"
   ]
  },
  {
   "cell_type": "markdown",
   "id": "9dea7fe8-0da8-4e60-98ef-718f20132bea",
   "metadata": {},
   "source": [
    "<div class=\"alert alert-success\">\n",
    "\n",
    "**Propiedad 2.** $\\langle \\vec{x}, \\vec{x} \\rangle \\ge 0$\n",
    "\n",
    "</div>\n",
    "\n",
    "<div class=\"alert alert-info\">\n",
    "\n",
    "El resultado debería ser:\n",
    "\n",
    "```\n",
    "<x, x> = 24.50\n",
    "<y, y> =  9.54\n",
    "<z, z> =  4.00\n",
    "```\n",
    "</div>"
   ]
  },
  {
   "cell_type": "code",
   "execution_count": 4,
   "id": "860df346-f3dd-41a8-8db6-0c433c15272f",
   "metadata": {
    "tags": []
   },
   "outputs": [
    {
     "name": "stdout",
     "output_type": "stream",
     "text": [
      "<x, x> = 24.50\n",
      "<y, y> =  9.54\n",
      "<z, z> =  4.00\n"
     ]
    }
   ],
   "source": [
    "### BEGIN SOLUTION\n",
    "# Calculo e impresión de los productos escalares\n",
    "print('<x, x> = {:>5.2f}'.format(x @ x))\n",
    "print('<y, y> = {:>5.2f}'.format(y @ y))\n",
    "print('<z, z> = {:>5.2f}'.format(z @ z))\n",
    "### END SOLUTION"
   ]
  },
  {
   "cell_type": "markdown",
   "id": "8ca38a3e-cead-4fb8-b9a4-c0403d2be500",
   "metadata": {},
   "source": [
    "<div class=\"alert alert-success\">\n",
    "\n",
    "**Propiedad 3.** Multiplicación por un escalar $\\langle \\alpha \\vec{x}, \\vec{y} \\rangle = \\alpha \\langle \\vec{x}, \\vec{y} \\rangle$\n",
    "\n",
    "</div>\n",
    "\n",
    "<div class=\"alert alert-info\">\n",
    "\n",
    "El resultado debería ser:\n",
    "\n",
    "```\n",
    "<α * x, y> = -1.3999999999999997\n",
    "α * <x, y> = -1.3999999999999997\n",
    "\n",
    "¿ <α * x, y> == α * <x,y> ? ⮕ True\n",
    "```\n",
    "</div>"
   ]
  },
  {
   "cell_type": "code",
   "execution_count": 5,
   "id": "e7703055-21a0-41d7-8e25-604e0fe17fd5",
   "metadata": {
    "tags": []
   },
   "outputs": [
    {
     "name": "stdout",
     "output_type": "stream",
     "text": [
      "<α * x, y> = -1.3999999999999995\n",
      "α * <x, y> = -1.3999999999999995\n",
      "\n",
      "¿ <α * x, y> == α * <x,y> ? ⮕ True\n"
     ]
    }
   ],
   "source": [
    "### BEGIN SOLUTION\n",
    "# Calculamos el producto escalar\n",
    "αx_y = (α * x) @ y\n",
    "α_xy = α * x @ y\n",
    "\n",
    "print('<α * x, y> = {}'.format(αx_y))\n",
    "print('α * <x, y> = {}'.format(α_xy))\n",
    "\n",
    "# Verificamos la propiedad\n",
    "print('\\n¿ <α * x, y> == α * <x,y> ? ⮕ {}'.format(np.allclose(αx_y, α_xy)))\n",
    "### END SOLUTION"
   ]
  },
  {
   "cell_type": "markdown",
   "id": "815d38cf-d66c-4ba4-8ff4-43f6df698bd1",
   "metadata": {},
   "source": [
    "<div class=\"alert alert-success\">\n",
    "\n",
    "**Propiedad 4.** Asociatividad $\\langle \\vec{x}+\\vec{y}, \\vec{z} \\rangle = \\langle \\vec{x}, \\vec{z} \\rangle + \\langle \\vec{y}, \\vec{z} \\rangle$\n",
    "\n",
    "</div>\n",
    "\n",
    "<div class=\"alert alert-info\">\n",
    "\n",
    "El resultado debería ser:\n",
    "\n",
    "```\n",
    "     <x + y, z> = 3.8\n",
    "<x, z> + <y, z> = 3.8\n",
    "\n",
    "¿ <x + y, z> == <x, z> + <y, z>? ⮕ True\n",
    "```\n",
    "</div>"
   ]
  },
  {
   "cell_type": "code",
   "execution_count": 6,
   "id": "b0089a73-f255-4006-91d7-978a3b23cab8",
   "metadata": {
    "tags": []
   },
   "outputs": [
    {
     "name": "stdout",
     "output_type": "stream",
     "text": [
      "     <x + y, z> = 3.8\n",
      "<x, z> + <y, z> = 3.8\n",
      "\n",
      "¿ <x + y, z> == <x, z> + <y, z>? ⮕ True\n"
     ]
    }
   ],
   "source": [
    "### BEGIN SOLUTION\n",
    "# Calculamos el producto escalar\n",
    "xy_z = (x + y) @ z\n",
    "xz_yz = x @ z + y @ z\n",
    "\n",
    "print('     <x + y, z> = {}'.format(xy_z))\n",
    "print('<x, z> + <y, z> = {}'.format(xz_yz))\n",
    "\n",
    "# Verificamos la propiedad\n",
    "print('\\n¿ <x + y, z> == <x, z> + <y, z>? ⮕ {}'.format(np.allclose(xy_z, xz_yz)))\n",
    "### END SOLUTION"
   ]
  },
  {
   "cell_type": "markdown",
   "id": "37299a6f-1040-4864-8d6e-8c8a6ed117e2",
   "metadata": {},
   "source": [
    "<div class=\"alert alert-success\">\n",
    "\n",
    "**Propiedad 5.** Conmutatividad $\\langle \\vec{x}, \\vec{y} \\rangle = \\langle \\vec{y}, \\vec{x} \\rangle $\n",
    "\n",
    "</div>\n",
    "\n",
    "\n",
    "<div class=\"alert alert-info\">\n",
    "\n",
    "El resultado debería ser:\n",
    "\n",
    "```\n",
    "<x, y> = -2.7999999999999994\n",
    "<y, x> = -2.7999999999999994\n",
    "\n",
    "¿ <x, y> == <y, x> ? ⮕ True\n",
    "```\n",
    "</div>"
   ]
  },
  {
   "cell_type": "code",
   "execution_count": 7,
   "id": "39e53fac-1cc0-4cc4-9c23-288e16f8aa7d",
   "metadata": {
    "tags": []
   },
   "outputs": [
    {
     "name": "stdout",
     "output_type": "stream",
     "text": [
      "<x, y> = -2.799999999999999\n",
      "<y, x> = -2.799999999999999\n",
      "\n",
      "¿ <x, y> == <y, x> ? ⮕ True\n"
     ]
    }
   ],
   "source": [
    "### BEGIN SOLUTION\n",
    "# Calculamos el producto escalar\n",
    "xy = x @ y\n",
    "yx = y @ x\n",
    "\n",
    "print('<x, y> = {}'.format(xy))\n",
    "print('<y, x> = {}'.format(yx))\n",
    "\n",
    "# Verificamos la propiedad\n",
    "print('\\n¿ <x, y> == <y, x> ? ⮕ {}'.format(np.isclose(xy, yx)))\n",
    "### END SOLUTION"
   ]
  },
  {
   "cell_type": "markdown",
   "id": "09b94d63-f454-4db7-a02a-c0998d9e7029",
   "metadata": {},
   "source": [
    "<div class=\"alert alert-success\">\n",
    "\n",
    "**Propiedad 6.** Desigualdad de Schwarz $|\\langle \\vec{x}, \\vec{y} \\rangle| \\le ||\\vec{x}|| ||\\vec{y}||$\n",
    "\n",
    "</div>\n",
    "\n",
    "<div class=\"alert alert-info\">\n",
    "\n",
    "El resultado debería ser:\n",
    "\n",
    "```\n",
    "|<x, y>| = 2.7999999999999994\n",
    "∥x∥ ∥y∥= 15.288230767489088\n",
    "\n",
    "¿|<x, y>| ≤ ∥x∥ ∥y∥? ⮕ True\n",
    "```\n",
    "</div>"
   ]
  },
  {
   "cell_type": "code",
   "execution_count": 8,
   "id": "7637c6cb-4bc2-462c-a96e-1bc8c1f905ff",
   "metadata": {
    "tags": []
   },
   "outputs": [
    {
     "name": "stdout",
     "output_type": "stream",
     "text": [
      "|<x, y>| = 2.799999999999999\n",
      "∥x∥ ∥y∥= 15.288230767489088\n",
      "\n",
      "¿|<x, y>| ≤ ∥x∥ ∥y∥? ⮕ True\n"
     ]
    }
   ],
   "source": [
    "### BEGIN SOLUTION\n",
    "# Valor absoluto del producto escalar\n",
    "abs_xy = np.abs(x @ y)\n",
    "\n",
    "# Producto de las normas de 'x' y 'y'\n",
    "norm_x_norm_y = np.linalg.norm(x) * np.linalg.norm(y)\n",
    "\n",
    "print('|<x, y>| = {}'.format(abs_xy))\n",
    "print('∥x∥ ∥y∥= {}'.format(norm_x_norm_y))\n",
    "\n",
    "# Verificamos la propiedad\n",
    "print('\\n¿|<x, y>| ≤ ∥x∥ ∥y∥? ⮕ {}'.format(abs_xy <= norm_x_norm_y))\n",
    "### END SOLUTION"
   ]
  },
  {
   "cell_type": "code",
   "execution_count": null,
   "id": "a60b3b97-e48b-45df-bb9b-53702a51f232",
   "metadata": {},
   "outputs": [],
   "source": []
  },
  {
   "cell_type": "code",
   "execution_count": null,
   "id": "3cb65d30-5c67-4f65-bc7c-2d3ec4e1ac41",
   "metadata": {},
   "outputs": [],
   "source": []
  }
 ],
 "metadata": {
  "kernelspec": {
   "display_name": "Python 3 (ipykernel)",
   "language": "python",
   "name": "python3"
  },
  "language_info": {
   "codemirror_mode": {
    "name": "ipython",
    "version": 3
   },
   "file_extension": ".py",
   "mimetype": "text/x-python",
   "name": "python",
   "nbconvert_exporter": "python",
   "pygments_lexer": "ipython3",
   "version": "3.11.6"
  }
 },
 "nbformat": 4,
 "nbformat_minor": 5
}
